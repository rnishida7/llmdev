{
 "cells": [
  {
   "cell_type": "code",
   "execution_count": 2,
   "id": "1bde2b95",
   "metadata": {},
   "outputs": [],
   "source": [
    "class BankAccount():\n",
    "    def __init__(self, balance):\n",
    "        self.__balance = balance\n",
    "    \n",
    "    def deposit(self, amount):\n",
    "        if amount >= 0:\n",
    "            self.__balance += amount\n",
    "        else:\n",
    "            print(\"エラー: 正しい金額を入力してください\")\n",
    "    \n",
    "    def withdraw(self, amount):\n",
    "        if amount <= self.__balance and amount > 0:\n",
    "            self.__balance -= amount\n",
    "        else:\n",
    "            print(\"エラー: 残高不足または無効な金額です\")\n",
    "    \n",
    "    def get_balance(self):\n",
    "        return self.__balance"
   ]
  },
  {
   "cell_type": "code",
   "execution_count": 5,
   "id": "23278d20",
   "metadata": {},
   "outputs": [
    {
     "name": "stdout",
     "output_type": "stream",
     "text": [
      "1300\n",
      "エラー: 残高不足または無効な金額です\n"
     ]
    }
   ],
   "source": [
    "bank_account = BankAccount(1000)\n",
    "bank_account.deposit(500)\n",
    "bank_account.withdraw(200)\n",
    "print(bank_account.get_balance())\n",
    "bank_account.withdraw(1500)\n"
   ]
  }
 ],
 "metadata": {
  "kernelspec": {
   "display_name": "llmdev",
   "language": "python",
   "name": "python3"
  },
  "language_info": {
   "codemirror_mode": {
    "name": "ipython",
    "version": 3
   },
   "file_extension": ".py",
   "mimetype": "text/x-python",
   "name": "python",
   "nbconvert_exporter": "python",
   "pygments_lexer": "ipython3",
   "version": "3.12.11"
  }
 },
 "nbformat": 4,
 "nbformat_minor": 5
}
