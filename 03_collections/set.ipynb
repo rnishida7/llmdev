{
 "cells": [
  {
   "cell_type": "code",
   "execution_count": 1,
   "id": "138725a3",
   "metadata": {},
   "outputs": [
    {
     "name": "stdout",
     "output_type": "stream",
     "text": [
      "{1, 2, 3, 4, 5}\n",
      "{42, 'apple', (1, 2, 3)}\n",
      "set()\n"
     ]
    }
   ],
   "source": [
    "# 数値を格納したセット\n",
    "numbers = {1, 2, 3, 4, 5}\n",
    "print(numbers)  # {1, 2, 3, 4, 5}\n",
    "\n",
    "# 異なるデータ型の値を格納したセット\n",
    "mixed_set = {\"apple\", 42, (1, 2, 3)}\n",
    "print(mixed_set)  # {'apple', 42, (1, 2, 3)}\n",
    "\n",
    "# 空のセット（空の辞書と区別するために set() を使用）\n",
    "empty_set = set()\n",
    "print(empty_set)  # set()"
   ]
  },
  {
   "cell_type": "code",
   "execution_count": 2,
   "id": "ac2b7072",
   "metadata": {},
   "outputs": [
    {
     "name": "stdout",
     "output_type": "stream",
     "text": [
      "{1, 2, 3}\n",
      "{'h', 'o', 'l', 'e'}\n"
     ]
    }
   ],
   "source": [
    "# リストからセットを作成\n",
    "numbers_list = [1, 2, 3, 2, 1]\n",
    "unique_numbers = set(numbers_list)\n",
    "print(unique_numbers)  # {1, 2, 3}\n",
    "\n",
    "# 文字列からセットを作成\n",
    "letters = set(\"hello\")\n",
    "print(letters)  # {'h', 'e', 'l', 'o'}"
   ]
  },
  {
   "cell_type": "code",
   "execution_count": 3,
   "id": "c91a00c8",
   "metadata": {},
   "outputs": [
    {
     "name": "stdout",
     "output_type": "stream",
     "text": [
      "{'cherry', 'apple', 'banana'}\n",
      "{'cherry', 'apple', 'banana'}\n"
     ]
    }
   ],
   "source": [
    "fruits = {\"apple\", \"banana\"}\n",
    "fruits.add(\"cherry\")\n",
    "print(fruits)  # {'apple', 'banana', 'cherry'}\n",
    "\n",
    "# すでに存在する要素を追加してもセットには影響なし\n",
    "fruits.add(\"apple\")\n",
    "print(fruits)  # {'apple', 'banana', 'cherry'}"
   ]
  },
  {
   "cell_type": "code",
   "execution_count": 4,
   "id": "23b9dd94",
   "metadata": {},
   "outputs": [
    {
     "name": "stdout",
     "output_type": "stream",
     "text": [
      "{'cherry', 'apple'}\n",
      "{'cherry', 'apple'}\n",
      "{'apple'}\n",
      "cherry\n",
      "set()\n"
     ]
    }
   ],
   "source": [
    "fruits = {\"apple\", \"banana\", \"cherry\"}\n",
    "\n",
    "# 特定の要素を削除\n",
    "fruits.remove(\"banana\")\n",
    "print(fruits)  # {'apple', 'cherry'}\n",
    "\n",
    "# 存在しない要素の削除\n",
    "fruits.discard(\"orange\")  # エラーにならない\n",
    "print(fruits)  # {'apple', 'cherry'}\n",
    "\n",
    "# 任意の要素を削除\n",
    "removed_item = fruits.pop()\n",
    "print(fruits)  # {'cherry'}（'apple' が削除されたと仮定）\n",
    "print(removed_item)  # apple\n",
    "\n",
    "# セットを空にする\n",
    "fruits.clear()\n",
    "print(fruits)  # set()\n"
   ]
  },
  {
   "cell_type": "code",
   "execution_count": 5,
   "id": "79d29399",
   "metadata": {},
   "outputs": [
    {
     "name": "stdout",
     "output_type": "stream",
     "text": [
      "{1, 2, 3, 4, 5, 6}\n",
      "{3, 4}\n",
      "{1, 2}\n",
      "{1, 2, 5, 6}\n"
     ]
    }
   ],
   "source": [
    "a = {1, 2, 3, 4}\n",
    "b = {3, 4, 5, 6}\n",
    "\n",
    "# 和集合\n",
    "print(a | b)  # {1, 2, 3, 4, 5, 6}\n",
    "\n",
    "# 積集合\n",
    "print(a & b)  # {3, 4}\n",
    "\n",
    "# 差集合\n",
    "print(a - b)  # {1, 2}\n",
    "\n",
    "# 対称差集合\n",
    "print(a ^ b)  # {1, 2, 5, 6}"
   ]
  },
  {
   "cell_type": "code",
   "execution_count": 6,
   "id": "01466de0",
   "metadata": {},
   "outputs": [
    {
     "name": "stdout",
     "output_type": "stream",
     "text": [
      "True\n",
      "False\n"
     ]
    }
   ],
   "source": [
    "fruits = {\"apple\", \"banana\", \"cherry\"}\n",
    "\n",
    "# \"apple\" がセットにあるか確認\n",
    "print(\"apple\" in fruits)  # True\n",
    "\n",
    "# \"grape\" がセットにあるか確認\n",
    "print(\"grape\" in fruits)  # False"
   ]
  }
 ],
 "metadata": {
  "kernelspec": {
   "display_name": "llmdev",
   "language": "python",
   "name": "python3"
  },
  "language_info": {
   "codemirror_mode": {
    "name": "ipython",
    "version": 3
   },
   "file_extension": ".py",
   "mimetype": "text/x-python",
   "name": "python",
   "nbconvert_exporter": "python",
   "pygments_lexer": "ipython3",
   "version": "3.12.11"
  }
 },
 "nbformat": 4,
 "nbformat_minor": 5
}
