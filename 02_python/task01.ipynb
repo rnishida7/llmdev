{
 "cells": [
  {
   "cell_type": "code",
   "execution_count": 1,
   "id": "e9566cb3",
   "metadata": {},
   "outputs": [
    {
     "name": "stdout",
     "output_type": "stream",
     "text": [
      "はじめまして、rnishida7 と申します。\n",
      "年齢は 30 歳です。来年は 31 歳になります。\n",
      "よろしくお願いします。\n"
     ]
    }
   ],
   "source": [
    "name = \"rnishida7\"\n",
    "age = 30\n",
    "\n",
    "print(f\"はじめまして、{name} と申します。\")\n",
    "print(f\"年齢は {age} 歳です。来年は {age + 1} 歳になります。\")\n",
    "print(\"よろしくお願いします。\")\n"
   ]
  }
 ],
 "metadata": {
  "kernelspec": {
   "display_name": "llmdev",
   "language": "python",
   "name": "python3"
  },
  "language_info": {
   "codemirror_mode": {
    "name": "ipython",
    "version": 3
   },
   "file_extension": ".py",
   "mimetype": "text/x-python",
   "name": "python",
   "nbconvert_exporter": "python",
   "pygments_lexer": "ipython3",
   "version": "3.12.11"
  }
 },
 "nbformat": 4,
 "nbformat_minor": 5
}
