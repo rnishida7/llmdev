{
 "cells": [
  {
   "cell_type": "code",
   "execution_count": 10,
   "id": "9fa2fed3",
   "metadata": {},
   "outputs": [
    {
     "name": "stdout",
     "output_type": "stream",
     "text": [
      "エラー: ユーザー名に空白を含めることはできません\n",
      "不正なユーザー名です\n"
     ]
    }
   ],
   "source": [
    "def validate(value):\n",
    "    if  len(value) < 5 or 15 < len(value):\n",
    "        print(\"エラー: ユーザー名は5文字以上15文字以内で入力してください\")\n",
    "        return False\n",
    "\n",
    "    if \" \" in value:\n",
    "        print(\"エラー: ユーザー名に空白を含めることはできません\")\n",
    "        return False\n",
    "    \n",
    "    if not value.isalnum():\n",
    "        print(\"エラー: ユーザー名は英数字のみ使用できます\")\n",
    "        return False\n",
    "    \n",
    "    print(\"ユーザー名は有効です\")\n",
    "    return True\n",
    "\n",
    "username = input(\"ユーザー名を入力してください: \")\n",
    "if not validate(username):\n",
    "    print(\"不正なユーザー名です\")\n"
   ]
  }
 ],
 "metadata": {
  "kernelspec": {
   "display_name": "llmdev",
   "language": "python",
   "name": "python3"
  },
  "language_info": {
   "codemirror_mode": {
    "name": "ipython",
    "version": 3
   },
   "file_extension": ".py",
   "mimetype": "text/x-python",
   "name": "python",
   "nbconvert_exporter": "python",
   "pygments_lexer": "ipython3",
   "version": "3.12.11"
  }
 },
 "nbformat": 4,
 "nbformat_minor": 5
}
