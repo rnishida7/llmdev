{
 "cells": [
  {
   "cell_type": "code",
   "execution_count": 1,
   "id": "4adc790c",
   "metadata": {},
   "outputs": [
    {
     "name": "stdout",
     "output_type": "stream",
     "text": [
      "10年後の金額: 1628.89\n"
     ]
    }
   ],
   "source": [
    "principal = int(input(\"元金を入力してください: \"))\n",
    "rate = float(input(\"年利を入力してください: \")) / 100\n",
    "\n",
    "total_amount = principal\n",
    "for year in range(10):\n",
    "    interest = total_amount * rate\n",
    "    total_amount += interest\n",
    "\n",
    "print(f\"10年後の金額: {total_amount:.2f}\")"
   ]
  }
 ],
 "metadata": {
  "kernelspec": {
   "display_name": "llmdev",
   "language": "python",
   "name": "python3"
  },
  "language_info": {
   "codemirror_mode": {
    "name": "ipython",
    "version": 3
   },
   "file_extension": ".py",
   "mimetype": "text/x-python",
   "name": "python",
   "nbconvert_exporter": "python",
   "pygments_lexer": "ipython3",
   "version": "3.12.11"
  }
 },
 "nbformat": 4,
 "nbformat_minor": 5
}
