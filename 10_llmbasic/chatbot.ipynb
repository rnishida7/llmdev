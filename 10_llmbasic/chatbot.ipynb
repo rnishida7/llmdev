{
 "cells": [
  {
   "cell_type": "code",
   "execution_count": 1,
   "id": "f33842af",
   "metadata": {},
   "outputs": [],
   "source": [
    "# 必要なモジュールをインポート\n",
    "import os\n",
    "from dotenv import load_dotenv\n",
    "from openai import OpenAI\n",
    "from pprint import pprint\n",
    "\n",
    "# 環境変数の取得\n",
    "load_dotenv(\"../.env\")\n",
    "\n",
    "# OpenAI APIクライアントを生成\n",
    "client = OpenAI(api_key=os.environ['API_KEY'])\n",
    "\n",
    "# モデル名\n",
    "MODEL_NAME = \"gpt-4o-mini\""
   ]
  },
  {
   "cell_type": "code",
   "execution_count": 2,
   "id": "3e09afe4",
   "metadata": {},
   "outputs": [
    {
     "data": {
      "text/plain": [
       "'質問:こんにちは！'"
      ]
     },
     "metadata": {},
     "output_type": "display_data"
    },
    {
     "name": "stdout",
     "output_type": "stream",
     "text": [
      "こんにちは！どうぞ、お話ししてください。何かお手伝いできることがありますか？"
     ]
    },
    {
     "data": {
      "text/plain": [
       "'質問:初心者にオススメのプログラミング言語を3つ教えて'"
      ]
     },
     "metadata": {},
     "output_type": "display_data"
    },
    {
     "name": "stdout",
     "output_type": "stream",
     "text": [
      "初心者にオススメのプログラミング言語を3つ挙げますね。\n",
      "\n",
      "1. **Python**:\n",
      "   - 読みやすく、文法がシンプルであるため、初心者にとって学びやすい言語です。データ分析、機械学習、ウェブ開発など、幅広い分野で使用されています。\n",
      "\n",
      "2. **JavaScript**:\n",
      "   - ウェブ開発において重要な役割を果たしている言語です。ブラウザ上で動くため、すぐに結果を確認でき、インタラクティブなウェブサイトの制作が可能です。\n",
      "\n",
      "3. **Ruby**:\n",
      "   - シンプルで人間に優しい文法を持ち、特にウェブアプリケーション開発に便利です。Ruby on Railsというフレームワークを使うことで、効率的に開発できます。\n",
      "\n",
      "これらの言語はコミュニティも活発で、学習リソースが豊富なので、初心者にとって良い選択肢です。どの言語に興味がありますか？"
     ]
    },
    {
     "data": {
      "text/plain": [
       "'質問:1つ目のプログラミング言語の名前は？'"
      ]
     },
     "metadata": {},
     "output_type": "display_data"
    },
    {
     "name": "stdout",
     "output_type": "stream",
     "text": [
      "1つ目のプログラミング言語は「Python」です。Pythonは非常に人気があり、文法がシンプルで読みやすいため、初心者に特におすすめです。データ分析や機械学習、ウェブ開発など多様な分野で使用されています。興味がある方は、ぜひ学んでみてください！\n",
      "---ご利用ありがとうございました！---\n"
     ]
    }
   ],
   "source": [
    "# メッセージを格納するリスト\n",
    "messages=[]\n",
    "\n",
    "while(True):\n",
    "    # ユーザーからの質問を受付\n",
    "    message = input(\"メッセージを入力:\")\n",
    "    # 質問が入力されなければ終了\n",
    "    if message.strip()==\"\":\n",
    "        break\n",
    "    display(f\"質問:{message}\")\n",
    "\n",
    "    # メッセージにユーザーからの質問を追加\n",
    "    messages.append({\"role\": \"user\", \"content\": message.strip()})\n",
    "    # やりとりが8を超えたら古いメッセージから削除\n",
    "    if len(messages) > 8:\n",
    "        del_message = messages.pop(0)\n",
    "\n",
    "    # APIへリクエスト\n",
    "    stream = client.chat.completions.create(\n",
    "        model=MODEL_NAME,\n",
    "        messages=messages,\n",
    "        stream=True,\n",
    "    )\n",
    "\n",
    "    # 言語モデルからの回答を表示\n",
    "    response_message = \"\"\n",
    "    for chunk in stream:\n",
    "        if chunk.choices:\n",
    "            next = chunk.choices[0].delta.content\n",
    "            if next is not None:\n",
    "                response_message += next\n",
    "                print(next, end='', flush=True)\n",
    "\n",
    "    # メッセージに言語モデルからの回答を追加\n",
    "    messages.append({\"role\": \"assistant\", \"content\": response_message})\n",
    "\n",
    "print(\"\\n---ご利用ありがとうございました！---\")"
   ]
  }
 ],
 "metadata": {
  "kernelspec": {
   "display_name": "llmdev",
   "language": "python",
   "name": "python3"
  },
  "language_info": {
   "codemirror_mode": {
    "name": "ipython",
    "version": 3
   },
   "file_extension": ".py",
   "mimetype": "text/x-python",
   "name": "python",
   "nbconvert_exporter": "python",
   "pygments_lexer": "ipython3",
   "version": "3.12.11"
  }
 },
 "nbformat": 4,
 "nbformat_minor": 5
}
