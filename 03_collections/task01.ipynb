{
 "cells": [
  {
   "cell_type": "code",
   "execution_count": 4,
   "id": "52727c7d",
   "metadata": {},
   "outputs": [
    {
     "name": "stdout",
     "output_type": "stream",
     "text": [
      "平均点: 86.6\n",
      "最高点: 92\n",
      "最低点: 78\n",
      "平均以上の学生数: 3\n"
     ]
    }
   ],
   "source": [
    "grades = [85, 90, 78, 92, 88]\n",
    "\n",
    "average = sum(grades) / len(grades)\n",
    "print(f\"平均点: {average}\")\n",
    "\n",
    "highest = max(grades)\n",
    "lowest = min(grades)\n",
    "print(f\"最高点: {highest}\")\n",
    "print(f\"最低点: {lowest}\")\n",
    "\n",
    "above_average_count = 0\n",
    "for grade in grades:\n",
    "    if grade >= average:\n",
    "        above_average_count += 1\n",
    "\n",
    "print(f\"平均以上の学生数: {above_average_count}\")\n"
   ]
  }
 ],
 "metadata": {
  "kernelspec": {
   "display_name": "llmdev",
   "language": "python",
   "name": "python3"
  },
  "language_info": {
   "codemirror_mode": {
    "name": "ipython",
    "version": 3
   },
   "file_extension": ".py",
   "mimetype": "text/x-python",
   "name": "python",
   "nbconvert_exporter": "python",
   "pygments_lexer": "ipython3",
   "version": "3.12.11"
  }
 },
 "nbformat": 4,
 "nbformat_minor": 5
}
