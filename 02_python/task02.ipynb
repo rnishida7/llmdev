{
 "cells": [
  {
   "cell_type": "code",
   "execution_count": 2,
   "id": "613c96e8",
   "metadata": {},
   "outputs": [
    {
     "name": "stdout",
     "output_type": "stream",
     "text": [
      "送料は350円です\n",
      "送料込税込価格は2000円です。\n"
     ]
    }
   ],
   "source": [
    "tax_excluded_price = float(input(\"税抜価格を入力してください：\"))\n",
    "\n",
    "price = round(tax_excluded_price * 1.1)\n",
    "\n",
    "if price >= 2000:\n",
    "    print(\"送料は無料です\")\n",
    "else:\n",
    "    print(\"送料は350円です\")\n",
    "    price += 350\n",
    "\n",
    "print(f\"送料込税込価格は{price}円です。\")\n"
   ]
  }
 ],
 "metadata": {
  "kernelspec": {
   "display_name": "llmdev",
   "language": "python",
   "name": "python3"
  },
  "language_info": {
   "codemirror_mode": {
    "name": "ipython",
    "version": 3
   },
   "file_extension": ".py",
   "mimetype": "text/x-python",
   "name": "python",
   "nbconvert_exporter": "python",
   "pygments_lexer": "ipython3",
   "version": "3.12.11"
  }
 },
 "nbformat": 4,
 "nbformat_minor": 5
}
